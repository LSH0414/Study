{
  "nbformat": 4,
  "nbformat_minor": 0,
  "metadata": {
    "colab": {
      "provenance": []
    },
    "kernelspec": {
      "name": "python3",
      "display_name": "Python 3"
    },
    "language_info": {
      "name": "python"
    }
  },
  "cells": [
    {
      "cell_type": "markdown",
      "source": [
        "# 04. 분해법"
      ],
      "metadata": {
        "id": "wNUsA8F866uv"
      }
    },
    {
      "cell_type": "markdown",
      "source": [
        "## 분해법\n",
        ": 분해법은 시계열을 분석하는 전통적인 방법 중 하나이다. 20세기 초 경제학자들이 경기변동을 예측하려고 시도한 데서 비롯 된 방법이라고 한다.\n",
        "\n",
        "분해법은 시계열이 체계적과 불규칙적인 성분으로 구성되어 있으며 체계적 성분에는 추세, 계절, 순환 등으로 분해할 수 있다고 보고 있다.\n",
        "\n",
        "![img](https://img1.daumcdn.net/thumb/R1280x0/?scode=mtistory2&fname=https%3A%2F%2Fblog.kakaocdn.net%2Fdn%2FcJUrd7%2FbtqQefOC0xs%2Fh5UNenOYlAw6IgMn2cOS3k%2Fimg.jpg)\n",
        "</br></br>\n",
        "그렇기에 각 성분들을 분해하여 예측함으로서 시계열 자료를 예측하고자 하는 것이다.\n",
        "\n",
        "이는 시계열자료의 패턴이 미래에도 지속될 것이라는 가정에서 출발한다.\n",
        "\n",
        "분해법의 목적 중 하나는 계절조정이다. 계절조정이란 **시계열자료에서 나타나는 계절에 따른 패턴을 제거**하는 것을 말한다.\n",
        "예를 들어 백화점 명절 시기의 매출을 분석한다. 이 백화점의 매출이 증가하는 계절적인 패턴이 항상 나타난다면 명절 시기이 때문에 매출이 상승한 것인지 계절의 순환으로 인해 상승한 것인지 알 수 없기 때문에 순수한 상승 크기를 예측하기 어렵게 된다. 그러한 의미에서 계절조정을 한다고 생각하면 된다.\n",
        "\n",
        "</br></br>\n",
        "분해법에서 시계열데이터는 두 가지의 형태를 갖는다.\n",
        "\n",
        "![img](https://img1.daumcdn.net/thumb/R1280x0/?scode=mtistory2&fname=https%3A%2F%2Fblog.kakaocdn.net%2Fdn%2FJOKtj%2FbtqQgAkokJP%2FJ8L6zjHKQxCgqe3TUB0Se0%2Fimg.png)\n",
        "\n",
        "**가법모형**은 계절성분의 진폭이 시계열의 수준에 관계 없이 일정한 수준일 때 주로 사용되며, **승법모형**은 시계열의 수준에 따라 진폭이 달라질 때 사용된다.\n",
        "\n",
        "승법모형에 Log-transform을 취하면 각 성분들은 log성질에 따라 덧셈으로 연결되는 이를 **로그가법모형**이라고한다.\n",
        "\n",
        "![img](https://img1.daumcdn.net/thumb/R1280x0/?scode=mtistory2&fname=https%3A%2F%2Fblog.kakaocdn.net%2Fdn%2FOgBbA%2FbtqQmQNjU2u%2F5byewsvvKg1kOlVE8bRiik%2Fimg.png)\n",
        "\n",
        "실제로 경제 관련 자료들의 경우, 시간의 흐름에 따라 점차로 증가하기 때문에 로그변환 후 가법모형을 많이 사용한다고 한다. 로그 변환을 하면 이분산의 크기를 줄여줄 수도 있고 단위가 클 경우 스케일링 효과도 달성 할 수 있다.\n",
        "</br></br>\n",
        "\n",
        "### 추세모형에 의한 분해\n",
        "순환성분의 경우 계절성분보다 더 긴 주기를 갖는 경기순환 등의 성분이나 일반적으로 그 주기를 알지 못하기 때문에 일반적인 분해법에서 순환성분은 크게 고려하지 않는다고 한다.\n",
        "\n",
        "분해법의 기본 가정은 **추세성분과 계절성분이 서로 독립**한다는 것.\n",
        "\n",
        "하지만 추세성분과 계절성분이 독립이라고 보기에는 조금 무리가 있다. 왜냐하면 추세에 따른 움직임과 계절에 따른 움직임으로부터 발생하는 시계열의 증감이 같이 움직여 더 큰 증가와 감소를 일으킬 수도 있고 상쇄될 수도 있기 때문이다. 따라서 **추세성분과 계절성분을 포함하는 모형을 이용해 각 성분을 동시에 추정하는 것이 바람직**하다고 한다.\n",
        "\n",
        "![img](https://img1.daumcdn.net/thumb/R1280x0/?scode=mtistory2&fname=https%3A%2F%2Fblog.kakaocdn.net%2Fdn%2FXOogB%2FbtqQhLlDpCR%2FQmdFKXvLs5RMLciGwviktK%2Fimg.png)\n",
        "\n",
        "</br></br>\n",
        "추세모형을 이용한 분해법에서 가장 중요한 것은 모수가 시간에 따라 변하지 않는다는 것이다. 만약 모수가 시간에 따라 변한다면 평활법을 사용하여 추정하는것이 바람직하다.\n",
        "\n",
        "\n"
      ],
      "metadata": {
        "id": "Pug0JGFE6-9R"
      }
    }
  ]
}