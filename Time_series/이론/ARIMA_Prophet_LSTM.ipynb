{
  "nbformat": 4,
  "nbformat_minor": 0,
  "metadata": {
    "colab": {
      "provenance": []
    },
    "kernelspec": {
      "name": "python3",
      "display_name": "Python 3"
    },
    "language_info": {
      "name": "python"
    }
  },
  "cells": [
    {
      "cell_type": "markdown",
      "source": [
        "# ARIMA vs Prophet vs LSTM"
      ],
      "metadata": {
        "id": "u-H_u-Ji-0UU"
      }
    },
    {
      "cell_type": "markdown",
      "source": [
        "## ARIMA\n",
        "\n",
        "ARIMA(AutoRegressive Integrated Moving Average)의 근간은 과거 값을 사용하여 시계열 값을 나타내는 수학적 모델이다. ARIMA는 두 가지 주요 기능을 기반한다.\n",
        "- 과거 가치\n",
        "> 과거의 데이터는 미래를 잘 예측할 수 있게 해준다. 문제는 얼마나 많은 과거의 데이터가 필요한가이다.\n",
        "\n",
        "- 과거 오류\n",
        "> 과거에 얼마나 잘 수행했는지에 대한 정보를 사용한다. \n",
        "\n",
        "여기서 중요한 점은 모델이 계절적 또는 일시적인 추세로부터 독립적이 되도록 시계열을 표준화 해야한다. 이는 시리즈가 시간이 지남에 따라 변하지 않는 것을 의미하는 것이 아니라 변화하는 방식 자체가 시간이 지남에 따라 변화하지 않는다는 것을 의미한다.\n",
        "\n",
        "### 매개변수\n",
        "ARIMA 모델의 세 가지 주요 구성 요소를 설명하는 매개변수는 p,d,q로 정의된다.\n",
        "- 적분(ARIMA의 I) : 정상성을 달성하는데 필요한 차이의 수. 매개변수 d로 지정한다.\n",
        "\n",
        "- AutoRegressiv(AR) : 매개변수 p. 현재 값을 표현하기 위해 고려해야 할 과거 값의 수.\n",
        "$$y̅_t = a_{t-p}y_{t-p} + a_{t-p+1}y_{t-p+1} + ... + a_{t-1}y_{t-1}$$\n",
        "\n",
        "- Moving Average(MA) : 과거의 예측 오차를 고려해야 하는 횟수.\n",
        "$$y̅ = θ_{t-q}ℇ_{t-q} + θ_{t-q+1}ℇ_{t-q+1} + ... + θ_{t-1}ℇ_{t-1}$$\n",
        "  - 과거 예측 오류:\n",
        "$$ℇ_i = y_i - y̅_i$$"
      ],
      "metadata": {
        "id": "0Z_yl4u2-9sn"
      }
    },
    {
      "cell_type": "markdown",
      "source": [
        "## Prophet\n",
        "\n",
        "Facebook에서 개발한 비지니스 시계열 예측 모델.\n",
        "$$y_t = g(t) + s(t) + h(t) + ε_t$$\n",
        "\n",
        "- $g(t)$ : 추세\n",
        "- $s(t)$ : 계절성 \n",
        "- $h(t)$ : 휴일 구성 요소\n",
        "- $ε_t$ : 모델로 설명할 수 없는 무작위 변동. 즉 오차 항.\n",
        "\n",
        "Prophet은 기본적으로 \n",
        "- INDEX : Date\n",
        "- Y : Predict Column\n",
        "구성이다.\n"
      ],
      "metadata": {
        "id": "a4jS_4Pm-_JX"
      }
    },
    {
      "cell_type": "markdown",
      "source": [
        "## LSTM 순환 신경망\n",
        "LSTM(Long-Short-Term-Memory)의 약자이다. 시계열에 제한되지 않고 사용되는 모델.\n",
        "LSTM의 기본 아이디어는 지금까지 본 시퀀스의 중요한 부분을 학습하고 덜 중요한 부분은 잊어 버리는 것이다. 이를 위해 게이트라는 기능이 존재한다.\n",
        "\n",
        "![LSTM](https://i0.wp.com/neptune.ai/wp-content/uploads/2022/10/Prophet-vs-ARIMA-vs-LSTM-for-Time-Series-Prediction_15.png?resize=803%2C550&ssl=1)\n"
      ],
      "metadata": {
        "id": "3hfQf-Sn5XsY"
      }
    },
    {
      "cell_type": "markdown",
      "source": [
        "# 비교\n",
        "\n",
        "## ARIMA\n",
        "**ARIMA**는 강력한 모델이다. 주식 데이터에 대해서 최고의 결과를 얻을 수 있다. 문제는 신중한 하이퍼파라미터 조정과 데이터에 대한 충분한 이해가 필요하다는 것이다.\n",
        "\n",
        "</br>\n",
        "\n",
        "## Prophet\n",
        "**Prophet**은 비지니스 시계열을 위해 제작됐다. 이것은 주식 데이터에 대해 좋은 결과를 보여주지는 못할 수 있다. 특히 Prophet은 달력 날짜의 개념과 계절 패턴을 학습할 수 없는 시계열에 좋지 못한 결과를 낸다. 그럼에도 Prophet의 장점은 비즈니스 시계열에서 패턴을 감지하도록 특별히 설계되었기 때문에 하이퍼파라미터 조정이 비교적 쉽다는 것이다.\n",
        "\n",
        "</br>\n",
        "\n",
        "## LSTM\n",
        "**LSTM**은 시계열 데이터에 국한된 모델이 아니라 순차 데이터에서 학습하는 가장 좋은 모델이다. LSTM은 복잡한  패턴을 감지할 수 있는 대규모 데이터에서 학습할때 진가가 나타난다. ARIMA와 Prophet과 달리 시계열 정상성 또는 날짜 필드같은 특정 필드에 의존하지 않는다. 단점은 해석이 어렵고 동작에 대한 직관을 얻기 힘들다는 것이다. 좋은 결과를 얻기 위해서는 섬세한 하이퍼파라미터 튜닝이 필요하다."
      ],
      "metadata": {
        "id": "sI4I1wDk6pbj"
      }
    },
    {
      "cell_type": "code",
      "source": [],
      "metadata": {
        "id": "sBxSXOl079Pi"
      },
      "execution_count": null,
      "outputs": []
    }
  ]
}