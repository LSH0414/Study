{
  "nbformat": 4,
  "nbformat_minor": 0,
  "metadata": {
    "colab": {
      "provenance": []
    },
    "kernelspec": {
      "name": "python3",
      "display_name": "Python 3"
    },
    "language_info": {
      "name": "python"
    }
  },
  "cells": [
    {
      "cell_type": "markdown",
      "source": [
        "# 01. 시계열모형의 개념"
      ],
      "metadata": {
        "id": "y1gij5MXgaYx"
      }
    },
    {
      "cell_type": "markdown",
      "source": [
        "$${Z}_{t} : {Z_1}, {Z_2} ... (t = 1, 2 ...)$$\n",
        "\n",
        "t = 시차 (time log)\n",
        "</br>\n",
        "시계열 분석의 주목적은 예측(Prediciton)\n",
        "* 특징\n",
        "   - 불규칙\n",
        "   - 추세\n",
        "   - 계절성\n",
        "</br>\n",
        "시계열 분석의 가장 대표적인 지표는 경제지표로 GDP, 소비자무라지수, 실업률 등이 있다.\n",
        "</br>\n",
        "이들의 공통점은 **'시간'**을 기준으로 데이터가 관측된다는 것\n",
        "</br>\n",
        "측정 주기는 분 단위, 시간 단위, 일별 단위 등 시간 단위로 측정이 가능하다. 거시적인 지표일수록 측정 주기는 길어진다.\n",
        "\n",
        "핵심은 이 측정 주기의 간격이 동일해야한다는 것이다. 이를 시차(Time lag)이라 한다.\n",
        "</br>\n",
        "\n",
        "시계열 데이터는 시간에 영향을 받는다. 주가를 예로 들어보면 오늘의 주가는 일주일 전 주가보다는 어제의 주가에 더 크게 영향을 받는다.\n",
        "예를 들어 2일전 900원, 1일전 1,000원이었다면 오늘은 1,000원 보다 상승을 예상해볼 수 있다.\n",
        "</br></br>\n",
        "- 불규칙성\n",
        "![img](https://img1.daumcdn.net/thumb/R1280x0/?scode=mtistory2&fname=https%3A%2F%2Fblog.kakaocdn.net%2Fdn%2FbzqoFJ%2FbtqMqcOIHK9%2Fo88e3V5Bh6KKEUC6d8ti3k%2Fimg.png)\n",
        "\n",
        "불규칙성은 회귀모형의 오차항과 같다.\n",
        "시간에 따라 규칙적인 움직임과 무관하게 랜덤한 원인에 의해 나타나는 변동성분을 의미한다.\n",
        "</br></br>\n",
        "- 추세\n",
        "![img](https://img1.daumcdn.net/thumb/R1280x0/?scode=mtistory2&fname=https%3A%2F%2Fblog.kakaocdn.net%2Fdn%2FcBgLSi%2FbtqMqeMvYE8%2FdZykcUkDK2rM0xrYE9Af7K%2Fimg.png)\n",
        "\n",
        "추세성분은 불규칙성과 달리 시간이 지남에 따라 관측값이 지속적으로 변하는 추세를 갖는 경우 변동을 의미힌다.\n",
        "</br>\n",
        "위 그름은 선형추세를 나타내고 있다. 추세는 직선만 존재하지 않고 2차, 3차 곡선 형태로도 나타낼 수 있다.\n",
        "</br>\n",
        "예를 들어 소비지출 데이터의 경우 하방경직적 자료이다. 한 번 상승후 잘 하락하지 않는다는 것을 의미하는데 이러한 경우 다음 예측값이 이러한 추세를 반영해주어야한다.\n",
        "</br></br>\n",
        "- 계절성\n",
        "![img](https://img1.daumcdn.net/thumb/R1280x0/?scode=mtistory2&fname=https%3A%2F%2Fblog.kakaocdn.net%2Fdn%2FbkYA2K%2FbtqMqBtZYxw%2FHPfJcZ8ytl8hMMm2APKXHk%2Fimg.png)\n",
        "\n",
        "</br>\n",
        "계절과 같은 일정한 주기에 따라 유사한 패턴이 반복되는 것을 말한다.\n",
        "</br></br>\n",
        "\n",
        "예를들어 명절 설, 추석 시즌의 백화점 매출은 년도를 주기로 비슷한 모형을 형성할 것이다. \n",
        "만약 꾸준한 경제 성장이 있었다면 아래와 같이 매출액은 주기마다 상승하는 '추세'도 보일 것이다.</br>\n",
        "\n",
        "![img](https://img1.daumcdn.net/thumb/R1280x0/?scode=mtistory2&fname=https%3A%2F%2Fblog.kakaocdn.net%2Fdn%2FbIDM8R%2FbtqMvKiDj55%2FLZZU1J01kpridFUxEasHU0%2Fimg.png)\n",
        "\n",
        "\n",
        "</br></br>\n",
        "\n",
        "**설명한 시계열 데이터만의 특징이 있기 때문에 시계열 데이터를 분석한다면 시계열 그림을 그려보는게 중요하다.**\n"
      ],
      "metadata": {
        "id": "-adGrad3geqr"
      }
    },
    {
      "cell_type": "code",
      "source": [],
      "metadata": {
        "id": "6vRxRPVjkD83"
      },
      "execution_count": null,
      "outputs": []
    }
  ]
}