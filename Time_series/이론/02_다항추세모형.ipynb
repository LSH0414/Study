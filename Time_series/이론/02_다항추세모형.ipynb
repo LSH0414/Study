{
  "nbformat": 4,
  "nbformat_minor": 0,
  "metadata": {
    "colab": {
      "provenance": []
    },
    "kernelspec": {
      "name": "python3",
      "display_name": "Python 3"
    },
    "language_info": {
      "name": "python"
    }
  },
  "cells": [
    {
      "cell_type": "markdown",
      "source": [
        "# 02. 다항추세모형"
      ],
      "metadata": {
        "id": "7Ai6ovj1lyt8"
      }
    },
    {
      "cell_type": "markdown",
      "source": [
        "다항추세모형 - 시계열자료의 추세(trend)를 이용한 추세분석\n",
        "- 상수평균모형\n",
        "- 추세모형\n",
        "\n",
        "\n",
        "선택한 데이터가 시간에 따라 증가 혹은 감소하는 추세를 보인다면 이는 시간 t에 대한 함수로 나타낼 수 있다.\n",
        "\n",
        "만약 이렇게 추세가 보이는 자료를 OLS회귀분석을 할 경우 큰 문제가 발생한다.\n",
        "\n",
        "왜냐하면 추세가 존재하는 자료끼리 회귀분석을 할 경우 아무런 노력을 하지 않아도 단순히 추세로 인해 유의한 상관관계가 존재한다고 판별할 수 있기 때문에, 잘못된 결론을 내리게 되는 spurious regression problem가 발생합니다.\n",
        "\n",
        "그러나 추세를 이용해 값을 예측할 목적이라면, 이러한 추세를 이용하는 것이 핵심입니다.\n",
        "\n",
        "\n",
        "추세모형은 다음과 같이 나타낼 수 있다.\n",
        "![img](https://img1.daumcdn.net/thumb/R1280x0/?scode=mtistory2&fname=https%3A%2F%2Fblog.kakaocdn.net%2Fdn%2FlT4qk%2FbtqMvJE8SpC%2FJtbxM70BZZhWoWw4Y6dkOk%2Fimg.png)\n",
        "\n",
        "관측값 Z를 시간 t에 대한 Polynomial term을 이용하여 다항식으로 나타낼 수 있다. 이를 선형다항추세모형 혹은 다항추세모형이라 한다.\n",
        "\n",
        "이러한 다항추세모형은 설명변수가 시간t의 함수인 다중회귀모형의 특별한 케이스이다. 그 이유는 설명변수 추세(trend)를 이용해 반응변수 Z를 예측한 것이기 떄문이다.\n",
        "\n",
        "\n",
        "## 상수평균모형\n",
        "\n",
        "다항추세모형 중 하나인 상수평균모형이다.\n",
        "- 불규칙 성분만 갖는 경우 : 상수평균모형\n",
        "\n",
        "![img](https://img1.daumcdn.net/thumb/R1280x0/?scode=mtistory2&fname=https%3A%2F%2Fblog.kakaocdn.net%2Fdn%2Fbuqyw4%2FbtqMARu8lC5%2FdkUN5ilfhVMFOfn25RSkA1%2Fimg.png)\n",
        "\n",
        "관측값이 일정한 수준에 머물면서 불규칙적 성분에 의한 변화만 보일 경우 상수평균모형으로 설명이 가능하다.\n",
        "예시로는 오피스가에 위치한 카페의 피크타임인 평일 12 30분 ~ 13시 매출을 생각해본다면 t는 분 단위로 범위는 12시 30분 ~ 13시이고 관측값 Z는 일정한 수준에서 변화하는 그래프를 보여줄 것이다. 이때 불규칙 성분은 근처 식당의 병목현상이 될 수 있다.\n",
        "\n",
        "이러한 상수평균모형은 일정 수준에서 머물면수 불규칙 성분에 의한 변화만을 보일때 설명한다. 여기서 불규칙 성분은 회귀모형에서의 오차항에 해당한다. 그러므로 오차항은 Cross_sectional data를 이용한 회귀분석에서의 오차항에 대한 가정인 i.i.d를 따른다.\n",
        "\n",
        "우리가 미래의 자료를 예측한다고 하면 가장 무난하고 안전하게 지금까지의 데이터의 평균 혹은 기대값을 사용한다. 왜냐하면 자료의 기대값을 사용하면 예측값의 오차를 작게 하는 효과적인 방법이기 때문이다.\n",
        "\n",
        "상수펴윤모형은 시계열자료가 일정한 수준에 머무는 추세를 보일 때 적용하는 모델이기 때문에 미래에도 현재의 추세에서 크게 벗어나지 않을 것이라는게 바람직한 가정이므로 현 시점에서 가장 바람직한 예측값은 지금까지 관측된 데이터의 평균이 된다.\n",
        "\n",
        "</br></br>\n",
        "\n",
        "## 선형추세모형\n",
        "\n",
        "선형추세모형은 상수평균모형과 달리 **일정한 수준에 머물지 않고 시간 t의 변화에 따라 상승 혹은 하락하는 추세를 보일 때 사용**한다.\n",
        "\n",
        "![img](https://img1.daumcdn.net/thumb/R1280x0/?scode=mtistory2&fname=https%3A%2F%2Fblog.kakaocdn.net%2Fdn%2FrMvVk%2FbtqMGfXGY1i%2F5JX0t2jJW4oaGa52wUJxF0%2Fimg.jpg)\n",
        "\n",
        "- 선형추세모형(Linear Trend Model)</br>: 추세 요인이 선형의 추세를 보일때, 즉 시간 t가 변함에 따라 시계열이 변하는 자료를 예측할 때 사용하는 모형이다.\n",
        "\n",
        "![img](https://img1.daumcdn.net/thumb/R1280x0/?scode=mtistory2&fname=https%3A%2F%2Fblog.kakaocdn.net%2Fdn%2FEzTKf%2FbtqMBxdL4qz%2F2PSruEAgA63ywIeQaq8Te1%2Fimg.png)\n",
        "\n",
        "회귀분석의 단순회귀모형의 형태를 떠올리면 이해하기 쉽다.\n",
        "\n",
        "시간 t를 설명변수로 본다면, 이를 바탕으로 모형의 파라미터를 이용해 Z를 추정할 수 있다. 파라미터는 최소죄곱법을 이용해 추정한다.\n",
        "</br></br>\n",
        "\n",
        "- n차 추세모형 (n>=2)\n",
        "\n",
        "![img](https://img1.daumcdn.net/thumb/R1280x0/?scode=mtistory2&fname=https%3A%2F%2Fblog.kakaocdn.net%2Fdn%2Fc0N7GR%2FbtqMGfckufo%2FatEWfjRxUlhQ0ugHSA0XmK%2Fimg.png)\n",
        "\n",
        "\n",
        "2차 추세모형의 경우 시간 t의 2차 Polynomial Tem을 취해주면 된다. 그리고 설명변수가 2개로 증가했기 때문에 파라미터 역시 1개 증가한다.\n",
        "\n",
        "통상적으로 2차 이상의 고차 추세모형은 먼저 선형추세모형을 적합한 후 잔차의 Plot을 그렸을 때 곡선 형태의 패턴이 나타날 경우, 차수를 하나씩 증가 시키면서 Polynomial Term을 적합해주는 것이 올바른 순서이다.\n",
        "\n",
        "즉 처음 2차항을 적합한 후, 잔차 plot을 확인하여 패턴이 나타나는지 체크하고, 만약 아직도 곡선 형태의 패턴이 보인다면 3차항도 추가하고, 확인하고 이 과정을 반복한다.\n",
        "\n",
        "고차 추세모형의 경우\n",
        "\n",
        "![img](https://img1.daumcdn.net/thumb/R1280x0/?scode=mtistory2&fname=https%3A%2F%2Fblog.kakaocdn.net%2Fdn%2Fxzyip%2FbtqMCgiuInI%2FXvDEUBupXiXMgheOJviu41%2Fimg.png)\n",
        "\n",
        "![img](https://img1.daumcdn.net/thumb/R1280x0/?scode=mtistory2&fname=https%3A%2F%2Fblog.kakaocdn.net%2Fdn%2FMrXGK%2FbtqMzEYWhqY%2FWdpTC6KnCRvIUkRvfeycrK%2Fimg.png)\n",
        "\n",
        "이 부분은 회귀분석을 이해 했다면 쉽게 이해할 수 있다.\n"
      ],
      "metadata": {
        "id": "LQjzCOtzmIu9"
      }
    }
  ]
}