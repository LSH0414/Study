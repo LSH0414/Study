{
 "cells": [
  {
   "cell_type": "code",
   "execution_count": 198,
   "id": "54390d58",
   "metadata": {},
   "outputs": [],
   "source": [
    "import requests\n",
    "import selenium\n",
    "from selenium.webdriver.common.by import By\n",
    "from selenium import webdriver\n",
    "from bs4 import BeautifulSoup as bs\n",
    "\n",
    "from tqdm import tqdm\n",
    "\n",
    "import time\n",
    "import datetime\n",
    "\n",
    "import pandas as pd"
   ]
  },
  {
   "cell_type": "code",
   "execution_count": 199,
   "id": "5a957b0b",
   "metadata": {},
   "outputs": [],
   "source": [
    "import fake_useragent"
   ]
  },
  {
   "cell_type": "code",
   "execution_count": 222,
   "id": "7caba300",
   "metadata": {},
   "outputs": [],
   "source": [
    "ua = fake_useragent.UserAgent(verify_ssl=False)"
   ]
  },
  {
   "cell_type": "code",
   "execution_count": 232,
   "id": "00b2d949",
   "metadata": {},
   "outputs": [],
   "source": [
    "base_url = 'https://gall.dcinside.com'\n",
    "gallary_url = '/mgallery/board/lists/?id=dnfqq'\n",
    "\n",
    "params = {\n",
    "    'page' : 1\n",
    "}\n",
    "\n",
    "headers = {\n",
    "    'user-agent': ua.random\n",
    "}"
   ]
  },
  {
   "cell_type": "code",
   "execution_count": 233,
   "id": "e0939034",
   "metadata": {},
   "outputs": [
    {
     "data": {
      "text/plain": [
       "{'user-agent': 'Mozilla/4.0 (compatible; MSIE 5.17; Mac_PowerPC)'}"
      ]
     },
     "execution_count": 233,
     "metadata": {},
     "output_type": "execute_result"
    }
   ],
   "source": [
    "headers"
   ]
  },
  {
   "cell_type": "code",
   "execution_count": 234,
   "id": "a88e1fb0",
   "metadata": {},
   "outputs": [],
   "source": [
    "recent_info = dict()"
   ]
  },
  {
   "cell_type": "code",
   "execution_count": 236,
   "id": "81875bbe",
   "metadata": {},
   "outputs": [
    {
     "name": "stdout",
     "output_type": "stream",
     "text": [
      "200\n",
      "init data\n"
     ]
    }
   ],
   "source": [
    "res = requests.get(base_url+gallary_url, headers= headers, params=params)\n",
    "\n",
    "print(res.status_code)\n",
    "\n",
    "soup = bs(res.content, \"html.parser\")\n",
    "contents = soup.select_one('tbody').select('tr')\n",
    "\n",
    "isFrist = True\n",
    "\n",
    "try:\n",
    "    last_num = recent_info['last_num']\n",
    "    last_url = recent_info['last_url']\n",
    "except:\n",
    "    print('init data')\n",
    "    last_num = '0'\n",
    "\n",
    "\n",
    "post_lst = []\n",
    "for content in contents:\n",
    "    post_num = content.select_one('td.gall_num').text\n",
    "    post_type = content.select_one('td.gall_subject').text\n",
    "    \n",
    "    if post_type == '일반':        \n",
    "        # 최신글인지 확인\n",
    "        if int(post_num) > int(last_num):\n",
    "            post_url = content.select_one('td>a')['href']\n",
    "            post_lst.append(post_url)\n",
    "            \n",
    "            if isFrist:\n",
    "                recent_info['last_num'] = post_num\n",
    "                recent_info['last_url'] = post_url\n",
    "                isFrist=False\n",
    "            \n",
    "#         if int(post_num) < int(last_num):\n",
    "#             print(post_num, last_num)\n",
    "#             print('searching Stop')\n",
    "#             break\n",
    "        \n",
    "#         last_num = post_num"
   ]
  },
  {
   "cell_type": "code",
   "execution_count": 237,
   "id": "7e79db68",
   "metadata": {},
   "outputs": [
    {
     "data": {
      "text/plain": [
       "{'last_num': '6188582',\n",
       " 'last_url': '/mgallery/board/view/?id=dnfqq&no=6188582&page=1'}"
      ]
     },
     "execution_count": 237,
     "metadata": {},
     "output_type": "execute_result"
    }
   ],
   "source": [
    "recent_info"
   ]
  },
  {
   "cell_type": "code",
   "execution_count": 182,
   "id": "d5ebd121",
   "metadata": {},
   "outputs": [],
   "source": [
    "import re\n",
    "def content_cleaning(text):\n",
    "    result = re.sub('[\\n]+', '', text)\n",
    "    return result.strip()"
   ]
  },
  {
   "cell_type": "code",
   "execution_count": 197,
   "id": "0faefa7d",
   "metadata": {},
   "outputs": [
    {
     "name": "stdout",
     "output_type": "stream",
     "text": [
      "https://gall.dcinside.com/mgallery/board/view/?id=dnfqq&no=6188407&page=1\n",
      "https://gall.dcinside.com/mgallery/board/view/?id=dnfqq&no=6188406&page=1\n",
      "https://gall.dcinside.com/mgallery/board/view/?id=dnfqq&no=6188405&page=1\n",
      "https://gall.dcinside.com/mgallery/board/view/?id=dnfqq&no=6188404&page=1\n",
      "https://gall.dcinside.com/mgallery/board/view/?id=dnfqq&no=6188403&page=1\n",
      "https://gall.dcinside.com/mgallery/board/view/?id=dnfqq&no=6188402&page=1\n",
      "https://gall.dcinside.com/mgallery/board/view/?id=dnfqq&no=6188401&page=1\n",
      "https://gall.dcinside.com/mgallery/board/view/?id=dnfqq&no=6188400&page=1\n",
      "https://gall.dcinside.com/mgallery/board/view/?id=dnfqq&no=6188399&page=1\n",
      "https://gall.dcinside.com/mgallery/board/view/?id=dnfqq&no=6188398&page=1\n",
      "https://gall.dcinside.com/mgallery/board/view/?id=dnfqq&no=6188397&page=1\n",
      "https://gall.dcinside.com/mgallery/board/view/?id=dnfqq&no=6188396&page=1\n",
      "https://gall.dcinside.com/mgallery/board/view/?id=dnfqq&no=6188395&page=1\n",
      "https://gall.dcinside.com/mgallery/board/view/?id=dnfqq&no=6188394&page=1\n",
      "https://gall.dcinside.com/mgallery/board/view/?id=dnfqq&no=6188393&page=1\n",
      "https://gall.dcinside.com/mgallery/board/view/?id=dnfqq&no=6188392&page=1\n",
      "https://gall.dcinside.com/mgallery/board/view/?id=dnfqq&no=6188391&page=1\n",
      "https://gall.dcinside.com/mgallery/board/view/?id=dnfqq&no=6188390&page=1\n",
      "https://gall.dcinside.com/mgallery/board/view/?id=dnfqq&no=6188389&page=1\n",
      "https://gall.dcinside.com/mgallery/board/view/?id=dnfqq&no=6188388&page=1\n",
      "https://gall.dcinside.com/mgallery/board/view/?id=dnfqq&no=6188387&page=1\n",
      "https://gall.dcinside.com/mgallery/board/view/?id=dnfqq&no=6188386&page=1\n",
      "https://gall.dcinside.com/mgallery/board/view/?id=dnfqq&no=6188385&page=1\n",
      "https://gall.dcinside.com/mgallery/board/view/?id=dnfqq&no=6188384&page=1\n",
      "https://gall.dcinside.com/mgallery/board/view/?id=dnfqq&no=6188383&page=1\n",
      "https://gall.dcinside.com/mgallery/board/view/?id=dnfqq&no=6188382&page=1\n",
      "https://gall.dcinside.com/mgallery/board/view/?id=dnfqq&no=6188381&page=1\n",
      "https://gall.dcinside.com/mgallery/board/view/?id=dnfqq&no=6188380&page=1\n",
      "https://gall.dcinside.com/mgallery/board/view/?id=dnfqq&no=6188379&page=1\n",
      "https://gall.dcinside.com/mgallery/board/view/?id=dnfqq&no=6188378&page=1\n",
      "https://gall.dcinside.com/mgallery/board/view/?id=dnfqq&no=6188377&page=1\n",
      "https://gall.dcinside.com/mgallery/board/view/?id=dnfqq&no=6188376&page=1\n",
      "https://gall.dcinside.com/mgallery/board/view/?id=dnfqq&no=6188375&page=1\n",
      "https://gall.dcinside.com/mgallery/board/view/?id=dnfqq&no=6188374&page=1\n",
      "https://gall.dcinside.com/mgallery/board/view/?id=dnfqq&no=6188373&page=1\n",
      "https://gall.dcinside.com/mgallery/board/view/?id=dnfqq&no=6188372&page=1\n",
      "https://gall.dcinside.com/mgallery/board/view/?id=dnfqq&no=6188370&page=1\n",
      "https://gall.dcinside.com/mgallery/board/view/?id=dnfqq&no=6188369&page=1\n",
      "https://gall.dcinside.com/mgallery/board/view/?id=dnfqq&no=6188368&page=1\n",
      "https://gall.dcinside.com/mgallery/board/view/?id=dnfqq&no=6188367&page=1\n",
      "https://gall.dcinside.com/mgallery/board/view/?id=dnfqq&no=6188365&page=1\n",
      "https://gall.dcinside.com/mgallery/board/view/?id=dnfqq&no=6188364&page=1\n",
      "https://gall.dcinside.com/mgallery/board/view/?id=dnfqq&no=6188363&page=1\n",
      "https://gall.dcinside.com/mgallery/board/view/?id=dnfqq&no=6188362&page=1\n"
     ]
    },
    {
     "data": {
      "text/html": [
       "<div>\n",
       "<style scoped>\n",
       "    .dataframe tbody tr th:only-of-type {\n",
       "        vertical-align: middle;\n",
       "    }\n",
       "\n",
       "    .dataframe tbody tr th {\n",
       "        vertical-align: top;\n",
       "    }\n",
       "\n",
       "    .dataframe thead th {\n",
       "        text-align: right;\n",
       "    }\n",
       "</style>\n",
       "<table border=\"1\" class=\"dataframe\">\n",
       "  <thead>\n",
       "    <tr style=\"text-align: right;\">\n",
       "      <th></th>\n",
       "    </tr>\n",
       "  </thead>\n",
       "  <tbody>\n",
       "  </tbody>\n",
       "</table>\n",
       "</div>"
      ],
      "text/plain": [
       "Empty DataFrame\n",
       "Columns: []\n",
       "Index: []"
      ]
     },
     "execution_count": 197,
     "metadata": {},
     "output_type": "execute_result"
    }
   ],
   "source": [
    "import time\n",
    "\n",
    "post_df = pd.DataFrame()\n",
    "\n",
    "try:\n",
    "    for post_url in post_lst:\n",
    "        print(base_url + post_url)\n",
    "        \n",
    "        time.sleep(1)\n",
    "        res = requests.get(base_url + post_url, headers=headers)\n",
    "        post = bs(res.content, \"html.parser\")\n",
    "        \n",
    "        isDelete = post.select_one('span.title_subject')\n",
    "        \n",
    "        if not isDelete:\n",
    "            continue\n",
    "            \n",
    "        title = isDelete.text\n",
    "        content = post.select_one('div.write_div').text\n",
    "        content = content_cleaning(content)\n",
    "        writed_at = post.select_one('span.gall_date')['title']\n",
    "\n",
    "        post_df = pd.concat([post_df, pd.DataFrame({'title' : title, 'content' : content, 'writed_at' : writed_at}, index=[0])])\n",
    "except:\n",
    "    print(base_url + post_url)\n",
    "    \n",
    "post_df.reset_index(drop=True)"
   ]
  },
  {
   "cell_type": "code",
   "execution_count": null,
   "id": "0bc2afd4",
   "metadata": {},
   "outputs": [],
   "source": []
  }
 ],
 "metadata": {
  "kernelspec": {
   "display_name": "Python 3 (ipykernel)",
   "language": "python",
   "name": "python3"
  },
  "language_info": {
   "codemirror_mode": {
    "name": "ipython",
    "version": 3
   },
   "file_extension": ".py",
   "mimetype": "text/x-python",
   "name": "python",
   "nbconvert_exporter": "python",
   "pygments_lexer": "ipython3",
   "version": "3.9.13"
  }
 },
 "nbformat": 4,
 "nbformat_minor": 5
}
